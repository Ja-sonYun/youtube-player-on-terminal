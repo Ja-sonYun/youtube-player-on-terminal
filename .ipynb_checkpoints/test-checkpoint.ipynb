{
 "cells": [
  {
   "cell_type": "code",
   "execution_count": 11,
   "metadata": {},
   "outputs": [],
   "source": [
    "from selenium import webdriver\n",
    "from selenium.webdriver.support.ui import WebDriverWait\n",
    "from selenium.webdriver.common.by import By\n",
    "from selenium.webdriver.common.keys import Keys\n",
    "from selenium.webdriver.chrome.options import Options\n",
    "from selenium.webdriver.support import expected_conditions as EC\n",
    "from bs4 import BeautifulSoup"
   ]
  },
  {
   "cell_type": "code",
   "execution_count": 2,
   "metadata": {},
   "outputs": [],
   "source": [
    "CHROMEDRIVER_PATH = '/Users/jasonyun/.chromedriver'"
   ]
  },
  {
   "cell_type": "code",
   "execution_count": 6,
   "metadata": {},
   "outputs": [],
   "source": [
    "driver = webdriver.Chrome(executable_path=CHROMEDRIVER_PATH)\n",
    "wait = WebDriverWait(driver, 3)\n",
    "presence = EC.presence_of_element_located\n",
    "visible = EC.visibility_of_element_located"
   ]
  },
  {
   "cell_type": "code",
   "execution_count": 10,
   "metadata": {},
   "outputs": [
    {
     "data": {
      "text/plain": [
       "<selenium.webdriver.remote.webelement.WebElement (session=\"a24235034304beb654345fceb76ae309\", element=\"b14586c5-4cc7-4f95-a15c-c219c63e9b8d\")>"
      ]
     },
     "execution_count": 10,
     "metadata": {},
     "output_type": "execute_result"
    }
   ],
   "source": [
    "driver.get('https://www.youtube.com/results?search_query={}'.format(str('chill')))\n",
    "wait.until(visible((By.ID, \"video-title\")))"
   ]
  },
  {
   "cell_type": "code",
   "execution_count": 56,
   "metadata": {},
   "outputs": [
    {
     "data": {
      "text/plain": [
       "['lofi hip hop radio - beats to relax/study to',\n",
       " 'Chill Music Mix 2020 🍃Best Music Chill Out Mix #1',\n",
       " 'Timber | A Chill Mix',\n",
       " 'r&b / hip-hop radio [ chill live stream － 24/7 rnb ]',\n",
       " 'lofi hip hop radio - beats to sleep/chill to',\n",
       " 'Saturday Nights - Chill out music mix - Khalid, Ali Gatie, Jeremy Zucker...',\n",
       " '1 A.M Study Session 📚 - [lofi hip hop/chill beats]',\n",
       " 'Chill Study Beats 4 • jazz & lofi hiphop Mix [2017]',\n",
       " 'C H I L L V I B E S | Chill & aesthetic music playlist',\n",
       " 'AMBIENT CHILLOUT LOUNGE RELAXING MUSIC - Essential Relax Session 1 - Background Chill Out Music -',\n",
       " 'Pop rnb chill mix | English songs playlist - Khalid, Justin Bieber',\n",
       " 'Warmth | Winter Chill Mix',\n",
       " 'Ｓｈｉｌｏｈ Ｄｙｎａｓｔｙ Ｃｈｉｌｌ Ｍｉｘ',\n",
       " 'chill beats to quarantine to',\n",
       " 'RnB Vibes 🍒 Chill out music mix w. Lyric Video',\n",
       " '休日に最高にChillできるMix（日本語ラップ&CityPop）',\n",
       " 'Relaxing Jazz Music - Background Chill Out  Music - Music For Relax,Study,Work',\n",
       " 'Chill Songs | Weed Playlist (wave mix)']"
      ]
     },
     "execution_count": 56,
     "metadata": {},
     "output_type": "execute_result"
    }
   ],
   "source": [
    "html = driver.page_source\n",
    "soup = BeautifulSoup(html, 'html.parser')\n",
    "title_tags = soup.find('ytd-search') \\\n",
    "    .find('ytd-two-column-search-results-renderer') \\\n",
    "    .find('ytd-section-list-renderer') \\\n",
    "    .find(id='contents') \\\n",
    "    .find('ytd-item-section-renderer') \\\n",
    "    .find(id='contents') \\\n",
    "    .find_all('ytd-video-renderer')#[0].string\n",
    "titles = []\n",
    "for title_tag in title_tags:\n",
    "    titles.append(title_tag.find(id='meta').find('yt-formatted-string').string)\n",
    "    \n",
    "titles"
   ]
  },
  {
   "cell_type": "code",
   "execution_count": 47,
   "metadata": {},
   "outputs": [
    {
     "name": "stdout",
     "output_type": "stream",
     "text": [
      "lofi hip hop radio - beats to relax/study to\n",
      "ChilledCow\n",
      "ChilledCow\n",
      "Thank you for listening, I hope you will have a good time here :) Listen to the playlist on Spotify, Apple music and more ...\n",
      "Chill Music Mix 2020 🍃Best Music Chill Out Mix #1\n",
      "Magic Music\n",
      "Magic Music\n",
      "None\n",
      "Timber | A Chill Mix\n",
      "Koala Kontrol\n",
      "Koala Kontrol\n",
      "None\n",
      "r&b / hip-hop radio [ chill live stream － 24/7 rnb ]\n",
      "Matthew Chávez\n",
      "Matthew Chávez\n",
      "None\n",
      "lofi hip hop radio - beats to sleep/chill to\n",
      "ChilledCow\n",
      "ChilledCow\n",
      "None\n",
      "Saturday Nights - Chill out music mix - Khalid, Ali Gatie, Jeremy Zucker...\n",
      "Love Life Lyrics\n",
      "Love Life Lyrics\n",
      "None\n",
      "1 A.M Study Session 📚 - [lofi hip hop/chill beats]\n",
      "ChilledCow\n",
      "ChilledCow\n",
      "Listen to 2 A.M Study Session : → https://www.youtube.com/watch?v=wAPCSnAhhC8 Download the illustration/animation ...\n",
      "Chill Study Beats 4 • jazz & lofi hiphop Mix [2017]\n",
      "Chillhop Music\n",
      "Chillhop Music\n",
      "Thanks to all 1 million of you who share the love for this music. ♥ Similar Music on Spotify » http://bit.ly/CMsingles Tracklist: ...\n",
      "C H I L L V I B E S | Chill & aesthetic music playlist\n",
      "EYM\n",
      "EYM\n",
      "Instagram @Eymmusic New video https://youtu.be/eIV-NjB5N0I Follow our playlist on spotify ...\n",
      "AMBIENT CHILLOUT LOUNGE RELAXING MUSIC - Essential Relax Session 1 - Background Chill Out Music -\n",
      "Relax Chillout Music\n",
      "Relax Chillout Music\n",
      "None\n",
      "Pop rnb chill mix | English songs playlist - Khalid, Justin Bieber\n",
      "Love Life Lyrics\n",
      "Love Life Lyrics\n",
      "None\n",
      "Warmth | Winter Chill Mix\n",
      "ChilloutDeer\n",
      "ChilloutDeer\n",
      "Spotify: shorturl.at/jHV58 ❤ Support ChilloutDeer: Paypal: streamlabs.com/chilloutdeer patreon.com/chilloutdeer 🦌 Tracklist: 00:00 ...\n",
      "Ｓｈｉｌｏｈ Ｄｙｎａｓｔｙ Ｃｈｉｌｌ Ｍｉｘ\n",
      "Top Squad ®\n",
      "Top Squad ®\n",
      "Some of my favourite songs with Ｓｈｉｌｏｈ Ｄｙｎａｓｔｙ. Share whith someone who will be crazy for it! As soon as I'll be able to I'll post ...\n",
      "chill beats to quarantine to\n",
      "Will Smith\n",
      "Will Smith\n",
      "Stuck at home? Throw these lofi beats in the mix and vibe #withme. Get my Bel-Air hoodie here: http://belairathletics.com ...\n",
      "RnB Vibes 🍒 Chill out music mix w. Lyric Video\n",
      "Love Life Lyrics\n",
      "Love Life Lyrics\n",
      "None\n",
      "50+\n",
      "YouTube\n",
      "Lofi hip hop mix - Beats to Relax/Study to [2018]\n",
      "Just wanna stay here forever ~ lofi hip hop mix\n",
      "休日に最高にChillできるMix（日本語ラップ&CityPop）\n",
      "HeartStation365\n",
      "HeartStation365\n",
      "None\n",
      "Relaxing Jazz Music - Background Chill Out  Music - Music For Relax,Study,Work\n",
      "Cafe Music BGM channel\n",
      "Cafe Music BGM channel\n",
      "Please Subscribe! https://www.youtube.com/user/cafemusicbgmchannel Music For Business「Cafe Music BGM Station」 English: ...\n",
      "Chill Songs | Weed Playlist (wave mix)\n",
      "Domynos\n",
      "Domynos\n",
      "Relaxe tua mente parte 9! Deixe tua música preferida e siga a Domynos em nossas redes Sociais :) Uma ótima sessão a todos ...\n",
      "css-build:shady\n",
      "ChilledCow\n",
      "The chillest cow in the world Listen to the music on Spotify, Apple music and more → https://bit.ly/chilledcow-playlists Join the ...\n",
      "Subscribe\n",
      "People also search for\n",
      "css-build:shady\n",
      "css-build:shady\n"
     ]
    }
   ],
   "source": []
  }
 ],
 "metadata": {
  "kernelspec": {
   "display_name": "Python 3",
   "language": "python",
   "name": "python3"
  },
  "language_info": {
   "codemirror_mode": {
    "name": "ipython",
    "version": 3
   },
   "file_extension": ".py",
   "mimetype": "text/x-python",
   "name": "python",
   "nbconvert_exporter": "python",
   "pygments_lexer": "ipython3",
   "version": "3.8.6"
  }
 },
 "nbformat": 4,
 "nbformat_minor": 4
}
